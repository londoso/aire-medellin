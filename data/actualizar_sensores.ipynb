{
 "cells": [
  {
   "cell_type": "code",
   "execution_count": 1,
   "metadata": {},
   "outputs": [],
   "source": [
    "import pandas as pd\n",
    "import os\n",
    "from dotenv import load_dotenv\n",
    "load_dotenv()\n",
    "import requests\n",
    "import json"
   ]
  },
  {
   "cell_type": "code",
   "execution_count": 19,
   "metadata": {},
   "outputs": [],
   "source": [
    "#pip install python-dotenv"
   ]
  },
  {
   "cell_type": "code",
   "execution_count": 18,
   "metadata": {},
   "outputs": [
    {
     "data": {
      "text/html": [
       "<div>\n",
       "<style scoped>\n",
       "    .dataframe tbody tr th:only-of-type {\n",
       "        vertical-align: middle;\n",
       "    }\n",
       "\n",
       "    .dataframe tbody tr th {\n",
       "        vertical-align: top;\n",
       "    }\n",
       "\n",
       "    .dataframe thead th {\n",
       "        text-align: right;\n",
       "    }\n",
       "</style>\n",
       "<table border=\"1\" class=\"dataframe\">\n",
       "  <thead>\n",
       "    <tr style=\"text-align: right;\">\n",
       "      <th></th>\n",
       "      <th>sensor_index</th>\n",
       "    </tr>\n",
       "  </thead>\n",
       "  <tbody>\n",
       "    <tr>\n",
       "      <th>0</th>\n",
       "      <td>27552</td>\n",
       "    </tr>\n",
       "    <tr>\n",
       "      <th>1</th>\n",
       "      <td>27597</td>\n",
       "    </tr>\n",
       "  </tbody>\n",
       "</table>\n",
       "</div>"
      ],
      "text/plain": [
       "   sensor_index\n",
       "0         27552\n",
       "1         27597"
      ]
     },
     "execution_count": 18,
     "metadata": {},
     "output_type": "execute_result"
    }
   ],
   "source": [
    "sensores_actualizar = pd.read_json('sensores.json')\n",
    "sensores_actualizar"
   ]
  },
  {
   "cell_type": "code",
   "execution_count": 4,
   "metadata": {},
   "outputs": [],
   "source": [
    "PURPLEAIR_GROUP_ID = os.getenv('PURPLEAIR_GROUP_ID')\n",
    "PURPLEAIR_READ_KEY = os.getenv('PURPLEAIR_READ_KEY')\n",
    "PURPLEAIR_WRITE_KEY = os.getenv('PURPLEAIR_WRITE_KEY')"
   ]
  },
  {
   "cell_type": "code",
   "execution_count": 9,
   "metadata": {},
   "outputs": [],
   "source": [
    "def sensores_actuales():    \n",
    "    api_url = f'https://api.purpleair.com/v1/groups/{PURPLEAIR_GROUP_ID}'\n",
    "    headers = {'X-API-Key': PURPLEAIR_READ_KEY}\n",
    "    response = requests.get(api_url, headers=headers)\n",
    "    members = response.json()['members']\n",
    "    sensor_index = [ sub['sensor_index'] for sub in members ]\n",
    "    member_id = [ sub['id'] for sub in members ]\n",
    "    return sensor_index, member_id"
   ]
  },
  {
   "cell_type": "code",
   "execution_count": 17,
   "metadata": {},
   "outputs": [
    {
     "name": "stdout",
     "output_type": "stream",
     "text": [
      "200\n",
      "{\n",
      "  \"api_version\" : \"V1.0.11-0.0.49\",\n",
      "  \"time_stamp\" : 1702141875,\n",
      "  \"data_time_stamp\" : 1702141851,\n",
      "  \"group_id\" : 1679,\n",
      "  \"member_id\" : 198797,\n",
      "  \"sensor\" : {\n",
      "    \"sensor_index\" : 27597,\n",
      "    \"last_modified\" : 1675197575,\n",
      "    \"date_created\" : 1551310940,\n",
      "    \"last_seen\" : 1702141794,\n",
      "    \"private\" : 0,\n",
      "    \"is_owner\" : 0,\n",
      "    \"name\" : \"Sensor La Villa\",\n",
      "    \"icon\" : 0,\n",
      "    \"location_type\" : 0,\n",
      "    \"model\" : \"PA-II\",\n",
      "    \"hardware\" : \"2.0+BME280+PMSX003-B+PMSX003-A\",\n",
      "    \"led_brightness\" : 35,\n",
      "    \"firmware_version\" : \"7.02\",\n",
      "    \"rssi\" : -50,\n",
      "    \"uptime\" : 65462,\n",
      "    \"pa_latency\" : 535,\n",
      "    \"memory\" : 16096,\n",
      "    \"position_rating\" : 5,\n",
      "    \"latitude\" : 6.235203,\n",
      "    \"longitude\" : -75.6043,\n",
      "    \"altitude\" : 5032,\n",
      "    \"channel_state\" : 3,\n",
      "    \"channel_flags\" : 0,\n",
      "    \"channel_flags_manual\" : 0,\n",
      "    \"channel_flags_auto\" : 0,\n",
      "    \"confidence\" : 100,\n",
      "    \"confidence_auto\" : 100,\n",
      "    \"confidence_manual\" : 100,\n",
      "    \"humidity\" : 25,\n",
      "    \"humidity_a\" : 25,\n",
      "    \"temperature\" : 94,\n",
      "    \"temperature_a\" : 94,\n",
      "    \"pressure\" : 845.38,\n",
      "    \"pressure_a\" : 845.38,\n",
      "    \"analog_input\" : 0.01,\n",
      "    \"pm1.0\" : 3.1,\n",
      "    \"pm1.0_a\" : 3.1,\n",
      "    \"pm1.0_b\" : 3.1,\n",
      "    \"pm2.5\" : 4.2,\n",
      "    \"pm2.5_a\" : 4.6,\n",
      "    \"pm2.5_b\" : 3.8,\n",
      "    \"pm2.5_alt\" : 2.9,\n",
      "    \"pm2.5_alt_a\" : 3.2,\n",
      "    \"pm2.5_alt_b\" : 2.5,\n",
      "    \"pm10.0\" : 4.3,\n",
      "    \"pm10.0_a\" : 4.8,\n",
      "    \"pm10.0_b\" : 3.8,\n",
      "    \"scattering_coefficient\" : 11.2,\n",
      "    \"scattering_coefficient_a\" : 11.2,\n",
      "    \"scattering_coefficient_b\" : 11.1,\n",
      "    \"deciviews\" : 8.5,\n",
      "    \"deciviews_a\" : 8.5,\n",
      "    \"deciviews_b\" : 8.5,\n",
      "    \"visual_range\" : 166.6,\n",
      "    \"visual_range_a\" : 166.1,\n",
      "    \"visual_range_b\" : 167.1,\n",
      "    \"0.3_um_count\" : 745,\n",
      "    \"0.3_um_count_a\" : 749,\n",
      "    \"0.3_um_count_b\" : 741,\n",
      "    \"0.5_um_count\" : 209,\n",
      "    \"0.5_um_count_a\" : 212,\n",
      "    \"0.5_um_count_b\" : 207,\n",
      "    \"1.0_um_count\" : 22,\n",
      "    \"1.0_um_count_a\" : 29,\n",
      "    \"1.0_um_count_b\" : 15,\n",
      "    \"2.5_um_count\" : 0,\n",
      "    \"2.5_um_count_a\" : 1,\n",
      "    \"2.5_um_count_b\" : 0,\n",
      "    \"5.0_um_count\" : 0,\n",
      "    \"5.0_um_count_a\" : 0,\n",
      "    \"5.0_um_count_b\" : 0,\n",
      "    \"10.0_um_count\" : 0,\n",
      "    \"10.0_um_count_a\" : 0,\n",
      "    \"10.0_um_count_b\" : 0,\n",
      "    \"pm1.0_cf_1\" : 3.1,\n",
      "    \"pm1.0_cf_1_a\" : 3.13,\n",
      "    \"pm1.0_cf_1_b\" : 3.13,\n",
      "    \"pm1.0_atm\" : 3.1,\n",
      "    \"pm1.0_atm_a\" : 3.13,\n",
      "    \"pm1.0_atm_b\" : 3.13,\n",
      "    \"pm2.5_atm\" : 4.2,\n",
      "    \"pm2.5_atm_a\" : 4.56,\n",
      "    \"pm2.5_atm_b\" : 3.76,\n",
      "    \"pm2.5_cf_1\" : 4.2,\n",
      "    \"pm2.5_cf_1_a\" : 4.56,\n",
      "    \"pm2.5_cf_1_b\" : 3.76,\n",
      "    \"pm10.0_atm\" : 4.3,\n",
      "    \"pm10.0_atm_a\" : 4.78,\n",
      "    \"pm10.0_atm_b\" : 3.85,\n",
      "    \"pm10.0_cf_1\" : 4.3,\n",
      "    \"pm10.0_cf_1_a\" : 4.78,\n",
      "    \"pm10.0_cf_1_b\" : 3.85,\n",
      "    \"primary_id_a\" : 715064,\n",
      "    \"primary_key_a\" : \"JE3LUQVE944URJ1U\",\n",
      "    \"primary_id_b\" : 715066,\n",
      "    \"primary_key_b\" : \"MHMWXOULM9YDQUY7\",\n",
      "    \"secondary_id_a\" : 715065,\n",
      "    \"secondary_key_a\" : \"SA992U4RYS7H0QP3\",\n",
      "    \"secondary_id_b\" : 715067,\n",
      "    \"secondary_key_b\" : \"UWY6552R3FSQKEAK\",\n",
      "    \"stats\" : {\"pm2.5\" : 4.2, \"pm2.5_10minute\" : 6.2, \"pm2.5_30minute\" : 10.8, \"pm2.5_60minute\" : 17.4, \"pm2.5_6hour\" : 27.4, \"pm2.5_24hour\" : 28.0, \"pm2.5_1week\" : 23.5, \"time_stamp\" : 1702141794},\n",
      "    \"stats_a\" : {\"pm2.5\" : 4.6, \"pm2.5_10minute\" : 6.4, \"pm2.5_30minute\" : 11.0, \"pm2.5_60minute\" : 17.6, \"pm2.5_6hour\" : 27.7, \"pm2.5_24hour\" : 28.3, \"pm2.5_1week\" : 23.8, \"time_stamp\" : 1702141794},\n",
      "    \"stats_b\" : {\"pm2.5\" : 3.8, \"pm2.5_10minute\" : 5.9, \"pm2.5_30minute\" : 10.5, \"pm2.5_60minute\" : 17.1, \"pm2.5_6hour\" : 27.2, \"pm2.5_24hour\" : 27.7, \"pm2.5_1week\" : 23.1, \"time_stamp\" : 1702141794}\n",
      "  }\n",
      "}\n"
     ]
    }
   ],
   "source": [
    "def adicionar_sensor(sensor_index):    \n",
    "    api_url = f'https://api.purpleair.com/v1/groups/{PURPLEAIR_GROUP_ID}/members'\n",
    "    headers = {'Content-Type': 'application/json','X-API-Key': PURPLEAIR_WRITE_KEY}\n",
    "    data = {'sensor_index': sensor_index}\n",
    "    response = requests.post(api_url, data=json.dumps(data), headers=headers)\n",
    "    return response.status_code"
   ]
  },
  {
   "cell_type": "code",
   "execution_count": 19,
   "metadata": {},
   "outputs": [
    {
     "data": {
      "text/plain": [
       "204"
      ]
     },
     "execution_count": 19,
     "metadata": {},
     "output_type": "execute_result"
    }
   ],
   "source": [
    "def eliminar_sensor(member_id):    \n",
    "    api_url = f'https://api.purpleair.com/v1/groups/{PURPLEAIR_GROUP_ID}/members/{member_id}'\n",
    "    headers = {'Content-Type': 'application/json','X-API-Key': PURPLEAIR_WRITE_KEY}\n",
    "    response = requests.delete(api_url, headers=headers)\n",
    "    return response.status_code"
   ]
  },
  {
   "cell_type": "code",
   "execution_count": 20,
   "metadata": {},
   "outputs": [
    {
     "data": {
      "text/html": [
       "<div>\n",
       "<style scoped>\n",
       "    .dataframe tbody tr th:only-of-type {\n",
       "        vertical-align: middle;\n",
       "    }\n",
       "\n",
       "    .dataframe tbody tr th {\n",
       "        vertical-align: top;\n",
       "    }\n",
       "\n",
       "    .dataframe thead th {\n",
       "        text-align: right;\n",
       "    }\n",
       "</style>\n",
       "<table border=\"1\" class=\"dataframe\">\n",
       "  <thead>\n",
       "    <tr style=\"text-align: right;\">\n",
       "      <th></th>\n",
       "      <th>sensor_index</th>\n",
       "      <th>member_id</th>\n",
       "    </tr>\n",
       "  </thead>\n",
       "  <tbody>\n",
       "    <tr>\n",
       "      <th>0</th>\n",
       "      <td>27552</td>\n",
       "      <td>163980</td>\n",
       "    </tr>\n",
       "    <tr>\n",
       "      <th>1</th>\n",
       "      <td>27597</td>\n",
       "      <td>198797</td>\n",
       "    </tr>\n",
       "  </tbody>\n",
       "</table>\n",
       "</div>"
      ],
      "text/plain": [
       "   sensor_index  member_id\n",
       "0         27552     163980\n",
       "1         27597     198797"
      ]
     },
     "execution_count": 20,
     "metadata": {},
     "output_type": "execute_result"
    }
   ],
   "source": [
    "sensor_index, member_id = sensores_actuales()\n",
    "sensores_act = pd.DataFrame({'sensor_index': sensor_index, 'member_id': member_id})\n",
    "sensores_act"
   ]
  },
  {
   "cell_type": "code",
   "execution_count": 51,
   "metadata": {},
   "outputs": [
    {
     "data": {
      "text/html": [
       "<div>\n",
       "<style scoped>\n",
       "    .dataframe tbody tr th:only-of-type {\n",
       "        vertical-align: middle;\n",
       "    }\n",
       "\n",
       "    .dataframe tbody tr th {\n",
       "        vertical-align: top;\n",
       "    }\n",
       "\n",
       "    .dataframe thead th {\n",
       "        text-align: right;\n",
       "    }\n",
       "</style>\n",
       "<table border=\"1\" class=\"dataframe\">\n",
       "  <thead>\n",
       "    <tr style=\"text-align: right;\">\n",
       "      <th></th>\n",
       "      <th>ids</th>\n",
       "    </tr>\n",
       "  </thead>\n",
       "  <tbody>\n",
       "    <tr>\n",
       "      <th>0</th>\n",
       "      <td>163980</td>\n",
       "    </tr>\n",
       "    <tr>\n",
       "      <th>1</th>\n",
       "      <td>163981</td>\n",
       "    </tr>\n",
       "  </tbody>\n",
       "</table>\n",
       "</div>"
      ],
      "text/plain": [
       "      ids\n",
       "0  163980\n",
       "1  163981"
      ]
     },
     "execution_count": 51,
     "metadata": {},
     "output_type": "execute_result"
    }
   ],
   "source": []
  }
 ],
 "metadata": {
  "kernelspec": {
   "display_name": "Python 3",
   "language": "python",
   "name": "python3"
  },
  "language_info": {
   "codemirror_mode": {
    "name": "ipython",
    "version": 3
   },
   "file_extension": ".py",
   "mimetype": "text/x-python",
   "name": "python",
   "nbconvert_exporter": "python",
   "pygments_lexer": "ipython3",
   "version": "3.11.7"
  }
 },
 "nbformat": 4,
 "nbformat_minor": 2
}
