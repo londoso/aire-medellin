{
 "cells": [
  {
   "cell_type": "code",
   "execution_count": 148,
   "metadata": {},
   "outputs": [],
   "source": [
    "import pandas as pd\n",
    "import os\n",
    "from dotenv import load_dotenv\n",
    "load_dotenv()\n",
    "import requests\n",
    "import json"
   ]
  },
  {
   "cell_type": "code",
   "execution_count": 149,
   "metadata": {},
   "outputs": [],
   "source": [
    "#pip install python-dotenv"
   ]
  },
  {
   "cell_type": "code",
   "execution_count": 151,
   "metadata": {},
   "outputs": [],
   "source": [
    "PURPLEAIR_GROUP_ID = os.getenv('PURPLEAIR_GROUP_ID')\n",
    "PURPLEAIR_READ_KEY = os.getenv('PURPLEAIR_READ_KEY')\n",
    "PURPLEAIR_WRITE_KEY = os.getenv('PURPLEAIR_WRITE_KEY')"
   ]
  },
  {
   "cell_type": "code",
   "execution_count": 152,
   "metadata": {},
   "outputs": [],
   "source": [
    "def consulta_sensores():    \n",
    "    api_url = f'https://api.purpleair.com/v1/groups/{PURPLEAIR_GROUP_ID}'\n",
    "    headers = {'X-API-Key': PURPLEAIR_READ_KEY}\n",
    "    response = requests.get(api_url, headers=headers)\n",
    "    members = response.json()['members']\n",
    "    sensor_index = [ sub['sensor_index'] for sub in members ]\n",
    "    member_id = [ sub['id'] for sub in members ]\n",
    "    return sensor_index, member_id"
   ]
  },
  {
   "cell_type": "code",
   "execution_count": 153,
   "metadata": {},
   "outputs": [],
   "source": [
    "def adicionar_sensor(sensor_index):    \n",
    "    api_url = f'https://api.purpleair.com/v1/groups/{PURPLEAIR_GROUP_ID}/members'\n",
    "    headers = {'Content-Type': 'application/json','X-API-Key': PURPLEAIR_WRITE_KEY}\n",
    "    data = {'sensor_index': sensor_index}\n",
    "    response = requests.post(api_url, data=json.dumps(data), headers=headers)\n",
    "    return response.status_code"
   ]
  },
  {
   "cell_type": "code",
   "execution_count": 154,
   "metadata": {},
   "outputs": [],
   "source": [
    "def eliminar_sensor(member_id):    \n",
    "    api_url = f'https://api.purpleair.com/v1/groups/{PURPLEAIR_GROUP_ID}/members/{member_id}'\n",
    "    headers = {'Content-Type': 'application/json','X-API-Key': PURPLEAIR_WRITE_KEY}\n",
    "    response = requests.delete(api_url, headers=headers)\n",
    "    return response.status_code"
   ]
  },
  {
   "cell_type": "code",
   "execution_count": 155,
   "metadata": {},
   "outputs": [],
   "source": [
    "def actualizaciones(df_actualizar, df_actual):\n",
    "    actualizar = pd.merge(df_actualizar,df_actual,how=\"outer\",on=\"sensor_index\",indicator=True)\n",
    "    control = actualizar.query('_merge!=\"both\"')\n",
    "    adicionar = actualizar.query('_merge==\"left_only\"')['sensor_index']\n",
    "    eliminar = actualizar.query('_merge==\"right_only\"')[['sensor_index','member_id']]\n",
    "    return control, adicionar, eliminar"
   ]
  },
  {
   "cell_type": "code",
   "execution_count": 156,
   "metadata": {},
   "outputs": [
    {
     "name": "stdout",
     "output_type": "stream",
     "text": [
      "### No hay actualizaciones\n"
     ]
    }
   ],
   "source": [
    "sensores_actualizar = pd.read_json('sensores.json')\n",
    "\n",
    "sensor_index, member_id = consulta_sensores()\n",
    "sensores_actuales = pd.DataFrame({'sensor_index': sensor_index, 'member_id': member_id})\n",
    "\n",
    "control, adicionar, eliminar = actualizaciones(sensores_actualizar,sensores_actuales)\n",
    "\n",
    "if control.size > 0:\n",
    "    if adicionar.size > 0:\n",
    "        for sensor in adicionar:\n",
    "            print('### Adicionando:',sensor)\n",
    "            adicionar_sensor(sensor)\n",
    "    elif eliminar.size > 0:\n",
    "        for index, row in eliminar.iterrows():\n",
    "            print('### Eliminando member_id:',row['member_id'],'| sensor_index:',row['sensor_index'])\n",
    "            eliminar_sensor(row['member_id'])\n",
    "else:\n",
    "    print('### No hay actualizaciones')"
   ]
  }
 ],
 "metadata": {
  "kernelspec": {
   "display_name": "Python 3",
   "language": "python",
   "name": "python3"
  },
  "language_info": {
   "codemirror_mode": {
    "name": "ipython",
    "version": 3
   },
   "file_extension": ".py",
   "mimetype": "text/x-python",
   "name": "python",
   "nbconvert_exporter": "python",
   "pygments_lexer": "ipython3",
   "version": "3.11.7"
  }
 },
 "nbformat": 4,
 "nbformat_minor": 2
}
