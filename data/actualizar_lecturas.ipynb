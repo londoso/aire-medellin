{
 "cells": [
  {
   "cell_type": "code",
   "execution_count": 4,
   "metadata": {},
   "outputs": [],
   "source": [
    "import pandas as pd\n",
    "import os\n",
    "from dotenv import load_dotenv\n",
    "load_dotenv()\n",
    "import requests\n",
    "import json\n",
    "import pytz\n",
    "from datetime import datetime"
   ]
  },
  {
   "cell_type": "code",
   "execution_count": 149,
   "metadata": {},
   "outputs": [],
   "source": [
    "#pip install python-dotenv"
   ]
  },
  {
   "cell_type": "code",
   "execution_count": 5,
   "metadata": {},
   "outputs": [],
   "source": [
    "PURPLEAIR_GROUP_ID = os.getenv('PURPLEAIR_GROUP_ID')\n",
    "PURPLEAIR_READ_KEY = os.getenv('PURPLEAIR_READ_KEY')\n",
    "PURPLEAIR_WRITE_KEY = os.getenv('PURPLEAIR_WRITE_KEY')"
   ]
  },
  {
   "cell_type": "code",
   "execution_count": 7,
   "metadata": {},
   "outputs": [],
   "source": [
    "def leer_sensores():    \n",
    "    api_url = f'https://api.purpleair.com/v1/groups/{PURPLEAIR_GROUP_ID}/members'\n",
    "    headers = {'X-API-Key': PURPLEAIR_READ_KEY}\n",
    "    params = {'fields': 'pm2.5_alt, pm2.5_alt_a, pm2.5_alt_b, pm2.5, pm2.5_a, pm2.5_b, pm2.5_atm, pm2.5_atm_a, pm2.5_atm_b, pm2.5_cf_1, pm2.5_cf_1_a, pm2.5_cf_1_b'}\n",
    "    response = requests.get(api_url, params=params, headers=headers)\n",
    "    return response"
   ]
  },
  {
   "cell_type": "code",
   "execution_count": 36,
   "metadata": {},
   "outputs": [],
   "source": [
    "respuesta = leer_sensores()\n",
    "campos = respuesta.json()['fields']\n",
    "datos = respuesta.json()['data']\n",
    "fecha = datetime.fromtimestamp(respuesta.json()['time_stamp'])"
   ]
  },
  {
   "cell_type": "code",
   "execution_count": 63,
   "metadata": {},
   "outputs": [],
   "source": [
    "co_tz = pytz.timezone('America/Bogota')\n",
    "fmt = '%Y-%m-%d-%H-%M-%S'\n",
    "fecha_col = co_tz.localize(fecha).strftime(fmt)"
   ]
  },
  {
   "cell_type": "code",
   "execution_count": 44,
   "metadata": {},
   "outputs": [],
   "source": [
    "df = pd.DataFrame(datos, columns=campos)"
   ]
  },
  {
   "cell_type": "code",
   "execution_count": 64,
   "metadata": {},
   "outputs": [],
   "source": [
    "try:\n",
    "    if df.size > 0:\n",
    "        df.to_csv(fecha_col + '.csv', index=False)\n",
    "    else:\n",
    "        raise NameError('No hay lectura de datos de los sensores')\n",
    "except NameError:\n",
    "    print('Ha ocurrido un error !')\n",
    "    raise"
   ]
  }
 ],
 "metadata": {
  "kernelspec": {
   "display_name": "Python 3",
   "language": "python",
   "name": "python3"
  },
  "language_info": {
   "codemirror_mode": {
    "name": "ipython",
    "version": 3
   },
   "file_extension": ".py",
   "mimetype": "text/x-python",
   "name": "python",
   "nbconvert_exporter": "python",
   "pygments_lexer": "ipython3",
   "version": "3.12.0"
  }
 },
 "nbformat": 4,
 "nbformat_minor": 2
}
